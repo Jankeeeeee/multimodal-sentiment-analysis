{
  "cells": [
    {
      "cell_type": "code",
      "source": [
        "from google.colab import drive\n",
        "drive.mount('/content/drive')"
      ],
      "metadata": {
        "colab": {
          "base_uri": "https://localhost:8080/"
        },
        "id": "wU0P52jwqsLU",
        "outputId": "5b9e8eb8-c9c1-4051-f540-5a0f8179138e"
      },
      "execution_count": null,
      "outputs": [
        {
          "output_type": "stream",
          "name": "stdout",
          "text": [
            "Mounted at /content/drive\n"
          ]
        }
      ]
    },
    {
      "cell_type": "code",
      "execution_count": null,
      "metadata": {
        "id": "eMGVysUGqpIY"
      },
      "outputs": [],
      "source": [
        "import pandas as pd\n",
        "import chardet\n",
        "import json"
      ]
    },
    {
      "cell_type": "code",
      "source": [
        "import os\n",
        "os.chdir('/content/drive/MyDrive/lab5')"
      ],
      "metadata": {
        "id": "69GgWJg0rGio"
      },
      "execution_count": null,
      "outputs": []
    },
    {
      "cell_type": "code",
      "execution_count": null,
      "metadata": {
        "colab": {
          "base_uri": "https://localhost:8080/",
          "height": 424
        },
        "id": "ac_AIJcbqpIk",
        "outputId": "d252e0d3-4e57-42b2-940e-44a0b92c176d"
      },
      "outputs": [
        {
          "output_type": "execute_result",
          "data": {
            "text/plain": [
              "      guid       tag\n",
              "0     4597  negative\n",
              "1       26   neutral\n",
              "2     4383  negative\n",
              "3      212  positive\n",
              "4     2626  positive\n",
              "...    ...       ...\n",
              "3995  3944  negative\n",
              "3996   945  positive\n",
              "3997   695  positive\n",
              "3998  4874  negative\n",
              "3999   246  negative\n",
              "\n",
              "[4000 rows x 2 columns]"
            ],
            "text/html": [
              "\n",
              "  <div id=\"df-b08bba65-f011-477a-97cb-0b8473ecf71d\">\n",
              "    <div class=\"colab-df-container\">\n",
              "      <div>\n",
              "<style scoped>\n",
              "    .dataframe tbody tr th:only-of-type {\n",
              "        vertical-align: middle;\n",
              "    }\n",
              "\n",
              "    .dataframe tbody tr th {\n",
              "        vertical-align: top;\n",
              "    }\n",
              "\n",
              "    .dataframe thead th {\n",
              "        text-align: right;\n",
              "    }\n",
              "</style>\n",
              "<table border=\"1\" class=\"dataframe\">\n",
              "  <thead>\n",
              "    <tr style=\"text-align: right;\">\n",
              "      <th></th>\n",
              "      <th>guid</th>\n",
              "      <th>tag</th>\n",
              "    </tr>\n",
              "  </thead>\n",
              "  <tbody>\n",
              "    <tr>\n",
              "      <th>0</th>\n",
              "      <td>4597</td>\n",
              "      <td>negative</td>\n",
              "    </tr>\n",
              "    <tr>\n",
              "      <th>1</th>\n",
              "      <td>26</td>\n",
              "      <td>neutral</td>\n",
              "    </tr>\n",
              "    <tr>\n",
              "      <th>2</th>\n",
              "      <td>4383</td>\n",
              "      <td>negative</td>\n",
              "    </tr>\n",
              "    <tr>\n",
              "      <th>3</th>\n",
              "      <td>212</td>\n",
              "      <td>positive</td>\n",
              "    </tr>\n",
              "    <tr>\n",
              "      <th>4</th>\n",
              "      <td>2626</td>\n",
              "      <td>positive</td>\n",
              "    </tr>\n",
              "    <tr>\n",
              "      <th>...</th>\n",
              "      <td>...</td>\n",
              "      <td>...</td>\n",
              "    </tr>\n",
              "    <tr>\n",
              "      <th>3995</th>\n",
              "      <td>3944</td>\n",
              "      <td>negative</td>\n",
              "    </tr>\n",
              "    <tr>\n",
              "      <th>3996</th>\n",
              "      <td>945</td>\n",
              "      <td>positive</td>\n",
              "    </tr>\n",
              "    <tr>\n",
              "      <th>3997</th>\n",
              "      <td>695</td>\n",
              "      <td>positive</td>\n",
              "    </tr>\n",
              "    <tr>\n",
              "      <th>3998</th>\n",
              "      <td>4874</td>\n",
              "      <td>negative</td>\n",
              "    </tr>\n",
              "    <tr>\n",
              "      <th>3999</th>\n",
              "      <td>246</td>\n",
              "      <td>negative</td>\n",
              "    </tr>\n",
              "  </tbody>\n",
              "</table>\n",
              "<p>4000 rows × 2 columns</p>\n",
              "</div>\n",
              "      <button class=\"colab-df-convert\" onclick=\"convertToInteractive('df-b08bba65-f011-477a-97cb-0b8473ecf71d')\"\n",
              "              title=\"Convert this dataframe to an interactive table.\"\n",
              "              style=\"display:none;\">\n",
              "        \n",
              "  <svg xmlns=\"http://www.w3.org/2000/svg\" height=\"24px\"viewBox=\"0 0 24 24\"\n",
              "       width=\"24px\">\n",
              "    <path d=\"M0 0h24v24H0V0z\" fill=\"none\"/>\n",
              "    <path d=\"M18.56 5.44l.94 2.06.94-2.06 2.06-.94-2.06-.94-.94-2.06-.94 2.06-2.06.94zm-11 1L8.5 8.5l.94-2.06 2.06-.94-2.06-.94L8.5 2.5l-.94 2.06-2.06.94zm10 10l.94 2.06.94-2.06 2.06-.94-2.06-.94-.94-2.06-.94 2.06-2.06.94z\"/><path d=\"M17.41 7.96l-1.37-1.37c-.4-.4-.92-.59-1.43-.59-.52 0-1.04.2-1.43.59L10.3 9.45l-7.72 7.72c-.78.78-.78 2.05 0 2.83L4 21.41c.39.39.9.59 1.41.59.51 0 1.02-.2 1.41-.59l7.78-7.78 2.81-2.81c.8-.78.8-2.07 0-2.86zM5.41 20L4 18.59l7.72-7.72 1.47 1.35L5.41 20z\"/>\n",
              "  </svg>\n",
              "      </button>\n",
              "      \n",
              "  <style>\n",
              "    .colab-df-container {\n",
              "      display:flex;\n",
              "      flex-wrap:wrap;\n",
              "      gap: 12px;\n",
              "    }\n",
              "\n",
              "    .colab-df-convert {\n",
              "      background-color: #E8F0FE;\n",
              "      border: none;\n",
              "      border-radius: 50%;\n",
              "      cursor: pointer;\n",
              "      display: none;\n",
              "      fill: #1967D2;\n",
              "      height: 32px;\n",
              "      padding: 0 0 0 0;\n",
              "      width: 32px;\n",
              "    }\n",
              "\n",
              "    .colab-df-convert:hover {\n",
              "      background-color: #E2EBFA;\n",
              "      box-shadow: 0px 1px 2px rgba(60, 64, 67, 0.3), 0px 1px 3px 1px rgba(60, 64, 67, 0.15);\n",
              "      fill: #174EA6;\n",
              "    }\n",
              "\n",
              "    [theme=dark] .colab-df-convert {\n",
              "      background-color: #3B4455;\n",
              "      fill: #D2E3FC;\n",
              "    }\n",
              "\n",
              "    [theme=dark] .colab-df-convert:hover {\n",
              "      background-color: #434B5C;\n",
              "      box-shadow: 0px 1px 3px 1px rgba(0, 0, 0, 0.15);\n",
              "      filter: drop-shadow(0px 1px 2px rgba(0, 0, 0, 0.3));\n",
              "      fill: #FFFFFF;\n",
              "    }\n",
              "  </style>\n",
              "\n",
              "      <script>\n",
              "        const buttonEl =\n",
              "          document.querySelector('#df-b08bba65-f011-477a-97cb-0b8473ecf71d button.colab-df-convert');\n",
              "        buttonEl.style.display =\n",
              "          google.colab.kernel.accessAllowed ? 'block' : 'none';\n",
              "\n",
              "        async function convertToInteractive(key) {\n",
              "          const element = document.querySelector('#df-b08bba65-f011-477a-97cb-0b8473ecf71d');\n",
              "          const dataTable =\n",
              "            await google.colab.kernel.invokeFunction('convertToInteractive',\n",
              "                                                     [key], {});\n",
              "          if (!dataTable) return;\n",
              "\n",
              "          const docLinkHtml = 'Like what you see? Visit the ' +\n",
              "            '<a target=\"_blank\" href=https://colab.research.google.com/notebooks/data_table.ipynb>data table notebook</a>'\n",
              "            + ' to learn more about interactive tables.';\n",
              "          element.innerHTML = '';\n",
              "          dataTable['output_type'] = 'display_data';\n",
              "          await google.colab.output.renderOutput(dataTable, element);\n",
              "          const docLink = document.createElement('div');\n",
              "          docLink.innerHTML = docLinkHtml;\n",
              "          element.appendChild(docLink);\n",
              "        }\n",
              "      </script>\n",
              "    </div>\n",
              "  </div>\n",
              "  "
            ]
          },
          "metadata": {},
          "execution_count": 7
        }
      ],
      "source": [
        "train_Data = pd.read_csv(\"train.txt\")\n",
        "test_Index = pd.read_csv(\"test_without_label.txt\")['guid'].values\n",
        "train_Count = train_Data[\"tag\"].value_counts() * 0.75 // 1   #训练集：验证集 = 3：1\n",
        "train_Data"
      ]
    },
    {
      "cell_type": "code",
      "execution_count": null,
      "metadata": {
        "id": "sEE0TBhlqpIo"
      },
      "outputs": [],
      "source": [
        "train_Neg = train_Data.loc[train_Data[\"tag\"] == \"negative\"].sample(n=int(train_Count[\"negative\"])).values\n",
        "train_Pos = train_Data.loc[train_Data[\"tag\"] == \"positive\"].sample(n=int(train_Count[\"positive\"])).values\n",
        "train_Neu = train_Data.loc[train_Data[\"tag\"] == \"neutral\"].sample(n=int(train_Count[\"neutral\"])).values\n",
        "val_Neg = train_Data[~train_Data[\"guid\"].isin(train_Neg[:, 0])].loc[train_Data[\"tag\"] == \"negative\"].values\n",
        "val_Pos = train_Data[~train_Data[\"guid\"].isin(train_Pos[:, 0])].loc[train_Data[\"tag\"] == \"positive\"].values\n",
        "val_Neu = train_Data[~train_Data[\"guid\"].isin(train_Neu[:, 0])].loc[train_Data[\"tag\"] == \"neutral\"].values"
      ]
    },
    {
      "cell_type": "code",
      "execution_count": null,
      "metadata": {
        "id": "pAsDqzVyqpIq"
      },
      "outputs": [],
      "source": [
        "def process_dataset(data,dataset):\n",
        "    for i in range(len(data)):\n",
        "        guid = data[i][0]\n",
        "        label = data[i][1]\n",
        "        encoding = chardet.detect(open('data/'+str(guid)+'.txt','rb').read())['encoding']\n",
        "        if encoding in ['GB2312','EUC-JP','Big5','Windows-1253','IBM866']:\n",
        "            encoding = 'GBK' \n",
        "        dataset.append({\n",
        "            'text':open('data/'+str(guid)+'.txt',encoding = encoding).read().rstrip('\\n'),\n",
        "            'label':label,\n",
        "            'img':'data/'+str(guid)+'.jpg'\n",
        "        })\n",
        "    return dataset"
      ]
    },
    {
      "cell_type": "code",
      "source": [
        "train_dataset = []\n",
        "train_dataset = process_dataset(train_Neg, train_dataset)\n",
        "train_dataset = process_dataset(train_Pos, train_dataset)\n",
        "train_dataset = process_dataset(train_Neu, train_dataset)"
      ],
      "metadata": {
        "id": "exv1-FFLsQxv"
      },
      "execution_count": null,
      "outputs": []
    },
    {
      "cell_type": "code",
      "source": [
        "val_dataset = []\n",
        "val_dataset = process_dataset(val_Neg, val_dataset)\n",
        "val_dataset = process_dataset(val_Pos, val_dataset)\n",
        "val_dataset = process_dataset(val_Neu, val_dataset)"
      ],
      "metadata": {
        "id": "rf7m8c7RsSZL"
      },
      "execution_count": null,
      "outputs": []
    },
    {
      "cell_type": "code",
      "execution_count": null,
      "metadata": {
        "id": "wvjwZ1plqpIw"
      },
      "outputs": [],
      "source": [
        "test_dataset=[]\n",
        "for guid in test_Index:\n",
        "    encoding = chardet.detect(open('data/'+str(guid)+'.txt','rb').read())['encoding']\n",
        "    if encoding in ['GB2312','EUC-JP','Big5','Windows-1253','Windows-1254']:\n",
        "        encoding = 'GBK' \n",
        "    test_dataset.append({\n",
        "        'text':open('data/'+str(guid)+'.txt',encoding = encoding).read().rstrip('\\n'),\n",
        "        'label':None,\n",
        "        'img':'data/'+str(guid)+'.jpg'        \n",
        "    })"
      ]
    },
    {
      "cell_type": "code",
      "execution_count": null,
      "metadata": {
        "id": "l9SRZPUbqpIy"
      },
      "outputs": [],
      "source": [
        "with open(\"train.json\", \"w\", encoding=\"utf-8\") as f:\n",
        "    json.dump(train_dataset, f)\n",
        "with open(\"val.json\", \"w\", encoding=\"utf-8\") as f:\n",
        "    json.dump(val_dataset, f)\n",
        "with open(\"test.json\", \"w\", encoding=\"utf-8\") as f:\n",
        "    json.dump(test_dataset, f)"
      ]
    },
    {
      "cell_type": "code",
      "execution_count": null,
      "metadata": {
        "id": "MwEm5_Q4qpI0",
        "outputId": "85ca6a87-9cab-4e49-8158-0be250973254"
      },
      "outputs": [
        {
          "name": "stdout",
          "output_type": "stream",
          "text": [
            "Number of train data: 2999\n",
            "Number of validation data: 1001\n",
            "Number of test data: 511\n"
          ]
        }
      ],
      "source": [
        "print('Number of train data:', len(train_dataset))\n",
        "print('Number of validation data:', len(val_dataset))\n",
        "print('Number of test data:', len(test_dataset))"
      ]
    },
    {
      "cell_type": "code",
      "execution_count": null,
      "metadata": {
        "id": "1-d_ZPhlqpI3"
      },
      "outputs": [],
      "source": [
        ""
      ]
    }
  ],
  "metadata": {
    "kernelspec": {
      "display_name": "Python 3",
      "language": "python",
      "name": "python3"
    },
    "language_info": {
      "codemirror_mode": {
        "name": "ipython",
        "version": 3
      },
      "file_extension": ".py",
      "mimetype": "text/x-python",
      "name": "python",
      "nbconvert_exporter": "python",
      "pygments_lexer": "ipython3",
      "version": "3.8.5"
    },
    "colab": {
      "name": "process_data.ipynb",
      "provenance": []
    }
  },
  "nbformat": 4,
  "nbformat_minor": 0
}